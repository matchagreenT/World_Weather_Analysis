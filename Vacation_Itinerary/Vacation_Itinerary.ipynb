{
 "cells": [
  {
   "cell_type": "markdown",
   "metadata": {},
   "source": [
    "## Deliverable 3. Create a Travel Itinerary Map."
   ]
  },
  {
   "cell_type": "code",
   "execution_count": 10,
   "metadata": {},
   "outputs": [],
   "source": [
    "# Dependencies and Setup\n",
    "import pandas as pd\n",
    "import requests\n",
    "import gmaps\n",
    "import numpy as np\n",
    "\n",
    "# Import API key\n",
    "from config import g_key\n",
    "\n",
    "# Configure gmaps\n",
    "gmaps.configure(api_key=g_key)"
   ]
  },
  {
   "cell_type": "code",
   "execution_count": 2,
   "metadata": {},
   "outputs": [
    {
     "output_type": "execute_result",
     "data": {
      "text/plain": [
       "   City_ID        City Country  Max Temp          Current      Lat       Lng  \\\n",
       "0        9    Columbus      US     78.01  overcast clouds  39.9612  -82.9988   \n",
       "1       16      Maxixe      MZ     77.00       few clouds -23.8597   35.3472   \n",
       "2       17   Mount Isa      AU     77.00    broken clouds -20.7333  139.5000   \n",
       "3       19    Vung Tau      VN     81.14    broken clouds  10.3460  107.0843   \n",
       "4       20  Sao Filipe      CV     77.00        clear sky  14.8961  -24.4956   \n",
       "\n",
       "                                          Hotel Name  \n",
       "0  DoubleTree Suites by Hilton Hotel Columbus Dow...  \n",
       "1                                             Oceano  \n",
       "2                          ibis Styles Mt Isa Verona  \n",
       "3                                        Green hotel  \n",
       "4                                        Tortuga B&B  "
      ],
      "text/html": "<div>\n<style scoped>\n    .dataframe tbody tr th:only-of-type {\n        vertical-align: middle;\n    }\n\n    .dataframe tbody tr th {\n        vertical-align: top;\n    }\n\n    .dataframe thead th {\n        text-align: right;\n    }\n</style>\n<table border=\"1\" class=\"dataframe\">\n  <thead>\n    <tr style=\"text-align: right;\">\n      <th></th>\n      <th>City_ID</th>\n      <th>City</th>\n      <th>Country</th>\n      <th>Max Temp</th>\n      <th>Current</th>\n      <th>Lat</th>\n      <th>Lng</th>\n      <th>Hotel Name</th>\n    </tr>\n  </thead>\n  <tbody>\n    <tr>\n      <th>0</th>\n      <td>9</td>\n      <td>Columbus</td>\n      <td>US</td>\n      <td>78.01</td>\n      <td>overcast clouds</td>\n      <td>39.9612</td>\n      <td>-82.9988</td>\n      <td>DoubleTree Suites by Hilton Hotel Columbus Dow...</td>\n    </tr>\n    <tr>\n      <th>1</th>\n      <td>16</td>\n      <td>Maxixe</td>\n      <td>MZ</td>\n      <td>77.00</td>\n      <td>few clouds</td>\n      <td>-23.8597</td>\n      <td>35.3472</td>\n      <td>Oceano</td>\n    </tr>\n    <tr>\n      <th>2</th>\n      <td>17</td>\n      <td>Mount Isa</td>\n      <td>AU</td>\n      <td>77.00</td>\n      <td>broken clouds</td>\n      <td>-20.7333</td>\n      <td>139.5000</td>\n      <td>ibis Styles Mt Isa Verona</td>\n    </tr>\n    <tr>\n      <th>3</th>\n      <td>19</td>\n      <td>Vung Tau</td>\n      <td>VN</td>\n      <td>81.14</td>\n      <td>broken clouds</td>\n      <td>10.3460</td>\n      <td>107.0843</td>\n      <td>Green hotel</td>\n    </tr>\n    <tr>\n      <th>4</th>\n      <td>20</td>\n      <td>Sao Filipe</td>\n      <td>CV</td>\n      <td>77.00</td>\n      <td>clear sky</td>\n      <td>14.8961</td>\n      <td>-24.4956</td>\n      <td>Tortuga B&amp;B</td>\n    </tr>\n  </tbody>\n</table>\n</div>"
     },
     "metadata": {},
     "execution_count": 2
    }
   ],
   "source": [
    "# 1. Read the WeatherPy_vacation.csv into a DataFrame.\n",
    "vacation_df = pd.read_csv(\"../Vacation_Search/WeatherPy_vacation.csv\")\n",
    "vacation_df.head()"
   ]
  },
  {
   "cell_type": "code",
   "execution_count": 3,
   "metadata": {},
   "outputs": [],
   "source": [
    "# 2. Using the template add the city name, the country code, the weather description and maximum temperature for the city.\n",
    "info_box_template = \"\"\"\n",
    "<dt>Hotel Name</dt><dd>{Hotel Name}</dd>\n",
    "<dt>City</dt><dd>{City}</dd>\n",
    "<dt>Country</dt><dd>{Country}</dd>\n",
    "<dt>Max Temp</dt><dd>{Max Temp} °F</dd>\n",
    "\"\"\"\n",
    "\n",
    "# 3a. Get the data from each row and add it to the formatting template and store the data in a list.\n",
    "hotel_info = [info_box_template.format(**row) for index, row in vacation_df.iterrows()]\n",
    "\n",
    "# 3b. Get the latitude and longitude from each row and store in a new DataFrame.\n",
    "locations = vacation_df[[\"Lat\", \"Lng\"]]"
   ]
  },
  {
   "cell_type": "code",
   "execution_count": 4,
   "metadata": {},
   "outputs": [
    {
     "output_type": "display_data",
     "data": {
      "text/plain": "Figure(layout=FigureLayout(height='420px'))",
      "application/vnd.jupyter.widget-view+json": {
       "version_major": 2,
       "version_minor": 0,
       "model_id": "880c1df665b7497e81f7ae7940717a1a"
      }
     },
     "metadata": {}
    }
   ],
   "source": [
    "# 4a. Add a marker layer for each city to the map.\n",
    "marker_layer = gmaps.marker_layer(locations, info_box_content=hotel_info)\n",
    "# 4b. Display the figure\n",
    "fig = gmaps.figure(center=(30.0, 31.0), zoom_level=1.5)\n",
    "fig.add_layer(marker_layer)\n",
    "fig"
   ]
  },
  {
   "cell_type": "code",
   "execution_count": 12,
   "metadata": {},
   "outputs": [
    {
     "output_type": "execute_result",
     "data": {
      "text/plain": [
       "     City_ID           City Country  Max Temp        Current     Lat     Lng  \\\n",
       "103      346  San Cristobal      VE      84.2  broken clouds  7.7669 -72.225   \n",
       "\n",
       "               Hotel Name  \n",
       "103  Posada Villaven C.A.  "
      ],
      "text/html": "<div>\n<style scoped>\n    .dataframe tbody tr th:only-of-type {\n        vertical-align: middle;\n    }\n\n    .dataframe tbody tr th {\n        vertical-align: top;\n    }\n\n    .dataframe thead th {\n        text-align: right;\n    }\n</style>\n<table border=\"1\" class=\"dataframe\">\n  <thead>\n    <tr style=\"text-align: right;\">\n      <th></th>\n      <th>City_ID</th>\n      <th>City</th>\n      <th>Country</th>\n      <th>Max Temp</th>\n      <th>Current</th>\n      <th>Lat</th>\n      <th>Lng</th>\n      <th>Hotel Name</th>\n    </tr>\n  </thead>\n  <tbody>\n    <tr>\n      <th>103</th>\n      <td>346</td>\n      <td>San Cristobal</td>\n      <td>VE</td>\n      <td>84.2</td>\n      <td>broken clouds</td>\n      <td>7.7669</td>\n      <td>-72.225</td>\n      <td>Posada Villaven C.A.</td>\n    </tr>\n  </tbody>\n</table>\n</div>"
     },
     "metadata": {},
     "execution_count": 12
    }
   ],
   "source": [
    "# From the map above pick 4 cities and create a vacation itinerary route to travel between the four cities. \n",
    "# 5. Create DataFrames for each city by filtering the 'vacation_df' using the loc method. \n",
    "# Hint: The starting and ending city should be the same city.\n",
    "\n",
    "vacation_start = vacation_df.loc[vacation_df['City'] == 'San Antero'] \n",
    "vacation_end = vacation_df.loc[vacation_df['City'] == 'San Antero']\n",
    "vacation_stop1 = vacation_df.loc[vacation_df['City'] == 'Taraza']\n",
    "vacation_stop2 = vacation_df.loc[vacation_df['City'] == 'Miranda']\n",
    "vacation_stop3 = vacation_df.loc[vacation_df['City'] == 'San Cristobal']\n",
    "vacation_stop3"
   ]
  },
  {
   "cell_type": "code",
   "execution_count": 13,
   "metadata": {},
   "outputs": [],
   "source": [
    "# 6. Get the latitude-longitude pairs as tuples from each city DataFrame using the to_numpy function and list indexing.\n",
    "start = vacation_start.iloc[0,5:7].to_numpy()\n",
    "end = vacation_end.iloc[0,5:7].to_numpy() \n",
    "stop1 = vacation_stop1.iloc[0,5:7].to_numpy()\n",
    "stop2 = vacation_stop2.iloc[0,5:7].to_numpy()\n",
    "stop3 = vacation_stop3.iloc[0,5:7].to_numpy()"
   ]
  },
  {
   "cell_type": "code",
   "execution_count": 39,
   "metadata": {
    "scrolled": true
   },
   "outputs": [],
   "source": [
    "# 7. Create a direction layer map using the start and end latitude-longitude pairs,\n",
    "# and stop1, stop2, and stop3 as the waypoints. The travel_mode should be \"DRIVING\", \"BICYCLING\", or \"WALKING\".\n",
    "fig = gmaps.figure(center=(35, -115), zoom_level = 6)\n",
    "san_antero = start\n",
    "taraza = stop1\n",
    "miranda = stop2\n",
    "san_cristobal = stop3\n",
    "road_trip = gmaps.directions_layer(san_antero, san_antero, \n",
    "                                  waypoints=[taraza, miranda, san_cristobal], \n",
    "                                  travel_mode=\"DRIVING\")"
   ]
  },
  {
   "cell_type": "code",
   "execution_count": 40,
   "metadata": {},
   "outputs": [
    {
     "output_type": "execute_result",
     "data": {
      "text/plain": [
       "   City_ID           City Country  Max Temp          Current     Lat      Lng  \\\n",
       "0      541     San Antero      CO     83.73  overcast clouds  9.3741 -75.7589   \n",
       "1      603         Taraza      CO     89.87  overcast clouds  7.5836 -75.4007   \n",
       "2      382        Miranda      CO     84.20    broken clouds  3.2499 -76.2281   \n",
       "3      346  San Cristobal      VE     84.20    broken clouds  7.7669 -72.2250   \n",
       "\n",
       "                         Hotel Name  \n",
       "0             Villamarina Inn chale  \n",
       "1                  Hotel Monteverde  \n",
       "2  unidiversidad organica la utopia  \n",
       "3              Posada Villaven C.A.  "
      ],
      "text/html": "<div>\n<style scoped>\n    .dataframe tbody tr th:only-of-type {\n        vertical-align: middle;\n    }\n\n    .dataframe tbody tr th {\n        vertical-align: top;\n    }\n\n    .dataframe thead th {\n        text-align: right;\n    }\n</style>\n<table border=\"1\" class=\"dataframe\">\n  <thead>\n    <tr style=\"text-align: right;\">\n      <th></th>\n      <th>City_ID</th>\n      <th>City</th>\n      <th>Country</th>\n      <th>Max Temp</th>\n      <th>Current</th>\n      <th>Lat</th>\n      <th>Lng</th>\n      <th>Hotel Name</th>\n    </tr>\n  </thead>\n  <tbody>\n    <tr>\n      <th>0</th>\n      <td>541</td>\n      <td>San Antero</td>\n      <td>CO</td>\n      <td>83.73</td>\n      <td>overcast clouds</td>\n      <td>9.3741</td>\n      <td>-75.7589</td>\n      <td>Villamarina Inn chale</td>\n    </tr>\n    <tr>\n      <th>1</th>\n      <td>603</td>\n      <td>Taraza</td>\n      <td>CO</td>\n      <td>89.87</td>\n      <td>overcast clouds</td>\n      <td>7.5836</td>\n      <td>-75.4007</td>\n      <td>Hotel Monteverde</td>\n    </tr>\n    <tr>\n      <th>2</th>\n      <td>382</td>\n      <td>Miranda</td>\n      <td>CO</td>\n      <td>84.20</td>\n      <td>broken clouds</td>\n      <td>3.2499</td>\n      <td>-76.2281</td>\n      <td>unidiversidad organica la utopia</td>\n    </tr>\n    <tr>\n      <th>3</th>\n      <td>346</td>\n      <td>San Cristobal</td>\n      <td>VE</td>\n      <td>84.20</td>\n      <td>broken clouds</td>\n      <td>7.7669</td>\n      <td>-72.2250</td>\n      <td>Posada Villaven C.A.</td>\n    </tr>\n  </tbody>\n</table>\n</div>"
     },
     "metadata": {},
     "execution_count": 40
    }
   ],
   "source": [
    "# 8. To create a marker layer map between the four cities.\n",
    "#  Combine the four city DataFrames into one DataFrame using the concat() function.\n",
    "itinerary_df = pd.concat([vacation_start, vacation_stop1, vacation_stop2, vacation_stop3],ignore_index=True)\n",
    "itinerary_df"
   ]
  },
  {
   "cell_type": "code",
   "execution_count": 41,
   "metadata": {},
   "outputs": [],
   "source": [
    "# 9 Using the template add city name, the country code, the weather description and maximum temperature for the city. \n",
    "info_box_template = \"\"\"\n",
    "<dl>\n",
    "<dt>Hotel Name</dt><dd>{Hotel Name}</dd>\n",
    "<dt>City</dt><dd>{City}</dd>\n",
    "<dt>Country</dt><dd>{Country}</dd>\n",
    "<dt>Max Temp</dt><dd>{Max Temp} °F</dd>\n",
    "</dl>\n",
    "\"\"\"\n",
    "\n",
    "# 10a Get the data from each row and add it to the formatting template and store the data in a list.\n",
    "hotel_info = [info_box_template.format(**row) for index, row in itinerary_df.iterrows()]\n",
    "\n",
    "# 10b. Get the latitude and longitude from each row and store in a new DataFrame.\n",
    "locations = itinerary_df[[\"Lat\", \"Lng\"]]"
   ]
  },
  {
   "cell_type": "code",
   "execution_count": 45,
   "metadata": {},
   "outputs": [
    {
     "output_type": "display_data",
     "data": {
      "text/plain": "Figure(layout=FigureLayout(height='420px'))",
      "application/vnd.jupyter.widget-view+json": {
       "version_major": 2,
       "version_minor": 0,
       "model_id": "6e300fc2fe9649deba9d401604551bff"
      }
     },
     "metadata": {}
    }
   ],
   "source": [
    "# 11a. Add a marker layer for each city to the map.\n",
    "marker_layer = gmaps.marker_layer(locations, info_box_content=hotel_info)\n",
    "# 11b. Display the figure\n",
    "fig = gmaps.figure(center=(30.0, 31.0), zoom_level = 1.5)\n",
    "fig.add_layer(road_trip)\n",
    "fig\n"
   ]
  },
  {
   "cell_type": "code",
   "execution_count": null,
   "metadata": {},
   "outputs": [],
   "source": []
  }
 ],
 "metadata": {
  "kernelspec": {
   "name": "pythondata",
   "display_name": "Python 3.7.9 64-bit ('PythonData': conda)"
  },
  "language_info": {
   "codemirror_mode": {
    "name": "ipython",
    "version": 3
   },
   "file_extension": ".py",
   "mimetype": "text/x-python",
   "name": "python",
   "nbconvert_exporter": "python",
   "pygments_lexer": "ipython3",
   "version": "3.7.9-final"
  },
  "latex_envs": {
   "LaTeX_envs_menu_present": true,
   "autoclose": false,
   "autocomplete": true,
   "bibliofile": "biblio.bib",
   "cite_by": "apalike",
   "current_citInitial": 1,
   "eqLabelWithNumbers": true,
   "eqNumInitial": 1,
   "hotkeys": {
    "equation": "Ctrl-E",
    "itemize": "Ctrl-I"
   },
   "labels_anchors": false,
   "latex_user_defs": false,
   "report_style_numbering": false,
   "user_envs_cfg": false
  }
 },
 "nbformat": 4,
 "nbformat_minor": 2
}