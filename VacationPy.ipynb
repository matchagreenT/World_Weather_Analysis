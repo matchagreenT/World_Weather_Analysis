{
 "cells": [
  {
   "cell_type": "code",
   "execution_count": 1,
   "id": "turkish-rebel",
   "metadata": {},
   "outputs": [],
   "source": [
    "# Import the dependencies.\n",
    "import pandas as pd\n",
    "import gmaps\n",
    "import requests\n",
    "\n",
    "# Import the API key.\n",
    "from config import g_key\n",
    "\n"
   ]
  },
  {
   "cell_type": "code",
   "execution_count": 2,
   "id": "comparable-interval",
   "metadata": {},
   "outputs": [
    {
     "output_type": "execute_result",
     "data": {
      "text/plain": [
       "   City_ID                City      Lat       Lng  Max Temp  Humidity  \\\n",
       "0        0              Bonthe   7.5264  -12.5050     81.73        79   \n",
       "1        1              Sangar  63.9242  127.4739     16.59        91   \n",
       "2        2  Comodoro Rivadavia -45.8667  -67.5000     64.40        48   \n",
       "3        3          Coromandel -18.4733  -47.2003     74.28        57   \n",
       "4        4              Mukhen  48.1000  136.1000     29.39        78   \n",
       "\n",
       "   Cloudiness  Wind Speed Country              Date  \n",
       "0          22        9.82      SL  2021-04-08 18:56  \n",
       "1         100       20.54      RU  2021-04-08 18:56  \n",
       "2           0        3.44      AR  2021-04-08 18:56  \n",
       "3          94       10.33      BR  2021-04-08 18:56  \n",
       "4         100        8.50      RU  2021-04-08 18:56  "
      ],
      "text/html": "<div>\n<style scoped>\n    .dataframe tbody tr th:only-of-type {\n        vertical-align: middle;\n    }\n\n    .dataframe tbody tr th {\n        vertical-align: top;\n    }\n\n    .dataframe thead th {\n        text-align: right;\n    }\n</style>\n<table border=\"1\" class=\"dataframe\">\n  <thead>\n    <tr style=\"text-align: right;\">\n      <th></th>\n      <th>City_ID</th>\n      <th>City</th>\n      <th>Lat</th>\n      <th>Lng</th>\n      <th>Max Temp</th>\n      <th>Humidity</th>\n      <th>Cloudiness</th>\n      <th>Wind Speed</th>\n      <th>Country</th>\n      <th>Date</th>\n    </tr>\n  </thead>\n  <tbody>\n    <tr>\n      <th>0</th>\n      <td>0</td>\n      <td>Bonthe</td>\n      <td>7.5264</td>\n      <td>-12.5050</td>\n      <td>81.73</td>\n      <td>79</td>\n      <td>22</td>\n      <td>9.82</td>\n      <td>SL</td>\n      <td>2021-04-08 18:56</td>\n    </tr>\n    <tr>\n      <th>1</th>\n      <td>1</td>\n      <td>Sangar</td>\n      <td>63.9242</td>\n      <td>127.4739</td>\n      <td>16.59</td>\n      <td>91</td>\n      <td>100</td>\n      <td>20.54</td>\n      <td>RU</td>\n      <td>2021-04-08 18:56</td>\n    </tr>\n    <tr>\n      <th>2</th>\n      <td>2</td>\n      <td>Comodoro Rivadavia</td>\n      <td>-45.8667</td>\n      <td>-67.5000</td>\n      <td>64.40</td>\n      <td>48</td>\n      <td>0</td>\n      <td>3.44</td>\n      <td>AR</td>\n      <td>2021-04-08 18:56</td>\n    </tr>\n    <tr>\n      <th>3</th>\n      <td>3</td>\n      <td>Coromandel</td>\n      <td>-18.4733</td>\n      <td>-47.2003</td>\n      <td>74.28</td>\n      <td>57</td>\n      <td>94</td>\n      <td>10.33</td>\n      <td>BR</td>\n      <td>2021-04-08 18:56</td>\n    </tr>\n    <tr>\n      <th>4</th>\n      <td>4</td>\n      <td>Mukhen</td>\n      <td>48.1000</td>\n      <td>136.1000</td>\n      <td>29.39</td>\n      <td>78</td>\n      <td>100</td>\n      <td>8.50</td>\n      <td>RU</td>\n      <td>2021-04-08 18:56</td>\n    </tr>\n  </tbody>\n</table>\n</div>"
     },
     "metadata": {},
     "execution_count": 2
    }
   ],
   "source": [
    "# Store the CSV you saved created in part one into a DataFrame.\n",
    "city_data_df = pd.read_csv(\"weather_data/cities.csv\")\n",
    "city_data_df.head()"
   ]
  },
  {
   "cell_type": "code",
   "execution_count": 3,
   "id": "aerial-parker",
   "metadata": {},
   "outputs": [
    {
     "output_type": "execute_result",
     "data": {
      "text/plain": [
       "City_ID         int64\n",
       "City           object\n",
       "Lat           float64\n",
       "Lng           float64\n",
       "Max Temp      float64\n",
       "Humidity        int64\n",
       "Cloudiness      int64\n",
       "Wind Speed    float64\n",
       "Country        object\n",
       "Date           object\n",
       "dtype: object"
      ]
     },
     "metadata": {},
     "execution_count": 3
    }
   ],
   "source": [
    "# Get the data types.\n",
    "city_data_df.dtypes"
   ]
  },
  {
   "cell_type": "code",
   "execution_count": 4,
   "id": "exceptional-bibliography",
   "metadata": {},
   "outputs": [],
   "source": [
    "# Configure gmaps to use your Google API key.\n",
    "gmaps.configure(api_key=g_key)"
   ]
  },
  {
   "cell_type": "code",
   "execution_count": 5,
   "id": "dental-anderson",
   "metadata": {},
   "outputs": [],
   "source": [
    "# Get the maximum temperature.\n",
    "max_temp = city_data_df[\"Max Temp\"]\n",
    "temps = []\n",
    "for temp in max_temp:\n",
    "    temps.append(max(temp, 0))"
   ]
  },
  {
   "cell_type": "code",
   "execution_count": 6,
   "id": "prepared-yemen",
   "metadata": {},
   "outputs": [
    {
     "output_type": "display_data",
     "data": {
      "text/plain": "Figure(layout=FigureLayout(height='420px'))",
      "application/vnd.jupyter.widget-view+json": {
       "version_major": 2,
       "version_minor": 0,
       "model_id": "e08665e4f64a4112b69242466c67cb5a"
      }
     },
     "metadata": {}
    }
   ],
   "source": [
    "# 1. Assign the locations to an array of latitude and longitude pairs.\n",
    "locations = city_data_df[[\"Lat\", \"Lng\"]]\n",
    "# 2. Assign the weights variable to some values.\n",
    "max_temp = city_data_df[\"Max Temp\"]\n",
    "\n",
    "# 3. Assign the figure variable to the gmaps.figure() attribute.\n",
    "fig = gmaps.figure(center=(30.0, 31.0), zoom_level=1.5)\n",
    "# 4. Assign the heatmap_layer variable to the heatmap_layer attribute and add in the locations.\n",
    "heatmap_layer = gmaps.heatmap_layer(locations, weights=temps, dissipating=False, max_intensity=300, point_radius=4)\n",
    "\n",
    "# 5. Add the heatmap layer.\n",
    "fig.add_layer(heatmap_layer)\n",
    "# 6. Call the figure to plot the data.\n",
    "fig "
   ]
  },
  {
   "cell_type": "code",
   "execution_count": 7,
   "id": "anonymous-nitrogen",
   "metadata": {},
   "outputs": [
    {
     "output_type": "display_data",
     "data": {
      "text/plain": "Figure(layout=FigureLayout(height='420px'))",
      "application/vnd.jupyter.widget-view+json": {
       "version_major": 2,
       "version_minor": 0,
       "model_id": "a941e6460d84463ebfa1b60ac822e27f"
      }
     },
     "metadata": {}
    }
   ],
   "source": [
    "# Heatmap of percent humidity\n",
    "locations = city_data_df[[\"Lat\", \"Lng\"]]\n",
    "humidity = city_data_df[\"Humidity\"]\n",
    "fig = gmaps.figure(center=(30.0, 31.0), zoom_level=1.5)\n",
    "heat_layer = gmaps.heatmap_layer(locations, weights=humidity, dissipating=False, max_intensity=300, point_radius=4)\n",
    "\n",
    "fig.add_layer(heat_layer)\n",
    "# Call the figure to plot the data.\n",
    "fig"
   ]
  },
  {
   "cell_type": "code",
   "execution_count": 8,
   "id": "modular-quebec",
   "metadata": {},
   "outputs": [
    {
     "output_type": "display_data",
     "data": {
      "text/plain": "Figure(layout=FigureLayout(height='420px'))",
      "application/vnd.jupyter.widget-view+json": {
       "version_major": 2,
       "version_minor": 0,
       "model_id": "7aa7657868bd4735b0ce45d84a103b7e"
      }
     },
     "metadata": {}
    }
   ],
   "source": [
    "# 1. Assign the locations to an array of latitude and longitude pairs.\n",
    "locations = city_data_df[[\"Lat\", \"Lng\"]]\n",
    "# 2. Assign the weights variable to some values.\n",
    "wind = city_data_df[\"Wind Speed\"]\n",
    "\n",
    "# 3. Assign the figure variable to the gmaps.figure() attribute.\n",
    "fig = gmaps.figure(center=(30.0, 31.0), zoom_level=1.5)\n",
    "# 4. Assign the heatmap_layer variable to the heatmap_layer attribute and add in the locations.\n",
    "heatmap_layer = gmaps.heatmap_layer(locations, weights=wind, dissipating=False, max_intensity=300, point_radius=4)\n",
    "\n",
    "# 5. Add the heatmap layer.\n",
    "fig.add_layer(heatmap_layer)\n",
    "# 6. Call the figure to plot the data.\n",
    "fig "
   ]
  },
  {
   "cell_type": "code",
   "execution_count": 9,
   "id": "verbal-consumer",
   "metadata": {},
   "outputs": [],
   "source": [
    "# Ask the customer to add a minimum and maximum temperature value.\n",
    "min_temp = float(input(\"What is the minimum temperature you would like for your trip? \"))\n",
    "max_temp = float(input(\"What is the maximum temperature you would like for your trip? \"))"
   ]
  },
  {
   "cell_type": "code",
   "execution_count": 10,
   "id": "satellite-stadium",
   "metadata": {},
   "outputs": [
    {
     "output_type": "execute_result",
     "data": {
      "text/plain": [
       "    City_ID             City      Lat       Lng  Max Temp  Humidity  \\\n",
       "0         0           Bonthe   7.5264  -12.5050     81.73        79   \n",
       "7         7          Rikitea -23.1203 -134.9692     76.19        65   \n",
       "9         9   Saint-Philippe -21.3585   55.7679     80.60        74   \n",
       "11       11            Dondo -19.6094   34.7431     78.80        73   \n",
       "29       29         Nuevitas  21.5453  -77.2644     82.40        54   \n",
       "32       32  Arraial Do Cabo -22.9661  -42.0278     78.80        78   \n",
       "35       35       Georgetown   5.4112  100.3354     82.40        88   \n",
       "37       37          Salalah  17.0151   54.0924     82.40        65   \n",
       "41       41           Avarua -21.2078 -159.7750     78.80        89   \n",
       "43       43          Itarema  -2.9248  -39.9167     83.28        74   \n",
       "\n",
       "    Cloudiness  Wind Speed Country              Date  \n",
       "0           22        9.82      SL  2021-04-08 18:56  \n",
       "7           27        2.35      PF  2021-04-08 18:56  \n",
       "9           40        3.44      RE  2021-04-08 18:56  \n",
       "11          20        3.33      MZ  2021-04-08 18:56  \n",
       "29          75       10.36      CU  2021-04-08 18:56  \n",
       "32          40       11.50      BR  2021-04-08 18:56  \n",
       "35          20        3.44      MY  2021-04-08 18:56  \n",
       "37           0        3.44      OM  2021-04-08 18:56  \n",
       "41          90        6.91      CK  2021-04-08 18:56  \n",
       "43          91       17.02      BR  2021-04-08 18:56  "
      ],
      "text/html": "<div>\n<style scoped>\n    .dataframe tbody tr th:only-of-type {\n        vertical-align: middle;\n    }\n\n    .dataframe tbody tr th {\n        vertical-align: top;\n    }\n\n    .dataframe thead th {\n        text-align: right;\n    }\n</style>\n<table border=\"1\" class=\"dataframe\">\n  <thead>\n    <tr style=\"text-align: right;\">\n      <th></th>\n      <th>City_ID</th>\n      <th>City</th>\n      <th>Lat</th>\n      <th>Lng</th>\n      <th>Max Temp</th>\n      <th>Humidity</th>\n      <th>Cloudiness</th>\n      <th>Wind Speed</th>\n      <th>Country</th>\n      <th>Date</th>\n    </tr>\n  </thead>\n  <tbody>\n    <tr>\n      <th>0</th>\n      <td>0</td>\n      <td>Bonthe</td>\n      <td>7.5264</td>\n      <td>-12.5050</td>\n      <td>81.73</td>\n      <td>79</td>\n      <td>22</td>\n      <td>9.82</td>\n      <td>SL</td>\n      <td>2021-04-08 18:56</td>\n    </tr>\n    <tr>\n      <th>7</th>\n      <td>7</td>\n      <td>Rikitea</td>\n      <td>-23.1203</td>\n      <td>-134.9692</td>\n      <td>76.19</td>\n      <td>65</td>\n      <td>27</td>\n      <td>2.35</td>\n      <td>PF</td>\n      <td>2021-04-08 18:56</td>\n    </tr>\n    <tr>\n      <th>9</th>\n      <td>9</td>\n      <td>Saint-Philippe</td>\n      <td>-21.3585</td>\n      <td>55.7679</td>\n      <td>80.60</td>\n      <td>74</td>\n      <td>40</td>\n      <td>3.44</td>\n      <td>RE</td>\n      <td>2021-04-08 18:56</td>\n    </tr>\n    <tr>\n      <th>11</th>\n      <td>11</td>\n      <td>Dondo</td>\n      <td>-19.6094</td>\n      <td>34.7431</td>\n      <td>78.80</td>\n      <td>73</td>\n      <td>20</td>\n      <td>3.33</td>\n      <td>MZ</td>\n      <td>2021-04-08 18:56</td>\n    </tr>\n    <tr>\n      <th>29</th>\n      <td>29</td>\n      <td>Nuevitas</td>\n      <td>21.5453</td>\n      <td>-77.2644</td>\n      <td>82.40</td>\n      <td>54</td>\n      <td>75</td>\n      <td>10.36</td>\n      <td>CU</td>\n      <td>2021-04-08 18:56</td>\n    </tr>\n    <tr>\n      <th>32</th>\n      <td>32</td>\n      <td>Arraial Do Cabo</td>\n      <td>-22.9661</td>\n      <td>-42.0278</td>\n      <td>78.80</td>\n      <td>78</td>\n      <td>40</td>\n      <td>11.50</td>\n      <td>BR</td>\n      <td>2021-04-08 18:56</td>\n    </tr>\n    <tr>\n      <th>35</th>\n      <td>35</td>\n      <td>Georgetown</td>\n      <td>5.4112</td>\n      <td>100.3354</td>\n      <td>82.40</td>\n      <td>88</td>\n      <td>20</td>\n      <td>3.44</td>\n      <td>MY</td>\n      <td>2021-04-08 18:56</td>\n    </tr>\n    <tr>\n      <th>37</th>\n      <td>37</td>\n      <td>Salalah</td>\n      <td>17.0151</td>\n      <td>54.0924</td>\n      <td>82.40</td>\n      <td>65</td>\n      <td>0</td>\n      <td>3.44</td>\n      <td>OM</td>\n      <td>2021-04-08 18:56</td>\n    </tr>\n    <tr>\n      <th>41</th>\n      <td>41</td>\n      <td>Avarua</td>\n      <td>-21.2078</td>\n      <td>-159.7750</td>\n      <td>78.80</td>\n      <td>89</td>\n      <td>90</td>\n      <td>6.91</td>\n      <td>CK</td>\n      <td>2021-04-08 18:56</td>\n    </tr>\n    <tr>\n      <th>43</th>\n      <td>43</td>\n      <td>Itarema</td>\n      <td>-2.9248</td>\n      <td>-39.9167</td>\n      <td>83.28</td>\n      <td>74</td>\n      <td>91</td>\n      <td>17.02</td>\n      <td>BR</td>\n      <td>2021-04-08 18:56</td>\n    </tr>\n  </tbody>\n</table>\n</div>"
     },
     "metadata": {},
     "execution_count": 10
    }
   ],
   "source": [
    "# Filter the dataset to find the cities that fit the criteria.\n",
    "preferred_cities_df = city_data_df.loc[(city_data_df[\"Max Temp\"] <= max_temp) & \\\n",
    "                                       (city_data_df[\"Max Temp\"] >= min_temp)]\n",
    "preferred_cities_df.head(10)"
   ]
  },
  {
   "cell_type": "code",
   "execution_count": 11,
   "id": "collected-cleaners",
   "metadata": {},
   "outputs": [
    {
     "output_type": "execute_result",
     "data": {
      "text/plain": [
       "City_ID       176\n",
       "City          176\n",
       "Lat           176\n",
       "Lng           176\n",
       "Max Temp      176\n",
       "Humidity      176\n",
       "Cloudiness    176\n",
       "Wind Speed    176\n",
       "Country       175\n",
       "Date          176\n",
       "dtype: int64"
      ]
     },
     "metadata": {},
     "execution_count": 11
    }
   ],
   "source": [
    "preferred_cities_df.count()"
   ]
  },
  {
   "cell_type": "code",
   "execution_count": 12,
   "id": "fluid-battery",
   "metadata": {},
   "outputs": [
    {
     "output_type": "execute_result",
     "data": {
      "text/plain": [
       "               City Country  Max Temp      Lat       Lng Hotel Name\n",
       "0            Bonthe      SL     81.73   7.5264  -12.5050           \n",
       "7           Rikitea      PF     76.19 -23.1203 -134.9692           \n",
       "9    Saint-Philippe      RE     80.60 -21.3585   55.7679           \n",
       "11            Dondo      MZ     78.80 -19.6094   34.7431           \n",
       "29         Nuevitas      CU     82.40  21.5453  -77.2644           \n",
       "32  Arraial Do Cabo      BR     78.80 -22.9661  -42.0278           \n",
       "35       Georgetown      MY     82.40   5.4112  100.3354           \n",
       "37          Salalah      OM     82.40  17.0151   54.0924           \n",
       "41           Avarua      CK     78.80 -21.2078 -159.7750           \n",
       "43          Itarema      BR     83.28  -2.9248  -39.9167           "
      ],
      "text/html": "<div>\n<style scoped>\n    .dataframe tbody tr th:only-of-type {\n        vertical-align: middle;\n    }\n\n    .dataframe tbody tr th {\n        vertical-align: top;\n    }\n\n    .dataframe thead th {\n        text-align: right;\n    }\n</style>\n<table border=\"1\" class=\"dataframe\">\n  <thead>\n    <tr style=\"text-align: right;\">\n      <th></th>\n      <th>City</th>\n      <th>Country</th>\n      <th>Max Temp</th>\n      <th>Lat</th>\n      <th>Lng</th>\n      <th>Hotel Name</th>\n    </tr>\n  </thead>\n  <tbody>\n    <tr>\n      <th>0</th>\n      <td>Bonthe</td>\n      <td>SL</td>\n      <td>81.73</td>\n      <td>7.5264</td>\n      <td>-12.5050</td>\n      <td></td>\n    </tr>\n    <tr>\n      <th>7</th>\n      <td>Rikitea</td>\n      <td>PF</td>\n      <td>76.19</td>\n      <td>-23.1203</td>\n      <td>-134.9692</td>\n      <td></td>\n    </tr>\n    <tr>\n      <th>9</th>\n      <td>Saint-Philippe</td>\n      <td>RE</td>\n      <td>80.60</td>\n      <td>-21.3585</td>\n      <td>55.7679</td>\n      <td></td>\n    </tr>\n    <tr>\n      <th>11</th>\n      <td>Dondo</td>\n      <td>MZ</td>\n      <td>78.80</td>\n      <td>-19.6094</td>\n      <td>34.7431</td>\n      <td></td>\n    </tr>\n    <tr>\n      <th>29</th>\n      <td>Nuevitas</td>\n      <td>CU</td>\n      <td>82.40</td>\n      <td>21.5453</td>\n      <td>-77.2644</td>\n      <td></td>\n    </tr>\n    <tr>\n      <th>32</th>\n      <td>Arraial Do Cabo</td>\n      <td>BR</td>\n      <td>78.80</td>\n      <td>-22.9661</td>\n      <td>-42.0278</td>\n      <td></td>\n    </tr>\n    <tr>\n      <th>35</th>\n      <td>Georgetown</td>\n      <td>MY</td>\n      <td>82.40</td>\n      <td>5.4112</td>\n      <td>100.3354</td>\n      <td></td>\n    </tr>\n    <tr>\n      <th>37</th>\n      <td>Salalah</td>\n      <td>OM</td>\n      <td>82.40</td>\n      <td>17.0151</td>\n      <td>54.0924</td>\n      <td></td>\n    </tr>\n    <tr>\n      <th>41</th>\n      <td>Avarua</td>\n      <td>CK</td>\n      <td>78.80</td>\n      <td>-21.2078</td>\n      <td>-159.7750</td>\n      <td></td>\n    </tr>\n    <tr>\n      <th>43</th>\n      <td>Itarema</td>\n      <td>BR</td>\n      <td>83.28</td>\n      <td>-2.9248</td>\n      <td>-39.9167</td>\n      <td></td>\n    </tr>\n  </tbody>\n</table>\n</div>"
     },
     "metadata": {},
     "execution_count": 12
    }
   ],
   "source": [
    "# Create DataFrame called hotel_df to store hotel names along with city, country, max temp, and coordinates.\n",
    "hotel_df = preferred_cities_df[[\"City\", \"Country\", \"Max Temp\", \"Lat\", \"Lng\"]].copy()\n",
    "hotel_df[\"Hotel Name\"] = \"\"\n",
    "hotel_df.head(10)"
   ]
  },
  {
   "cell_type": "code",
   "execution_count": 13,
   "id": "printable-michael",
   "metadata": {},
   "outputs": [],
   "source": [
    "# Set parameters to search for a hotel.\n",
    "params = {\n",
    "    \"radius\": 5000,\n",
    "    \"type\": \"lodging\",\n",
    "    \"key\": g_key\n",
    "}"
   ]
  },
  {
   "cell_type": "code",
   "execution_count": 18,
   "metadata": {},
   "outputs": [
    {
     "output_type": "stream",
     "name": "stdout",
     "text": [
      "Hotel not found... skipping.\n",
      "Hotel not found... skipping.\n",
      "Hotel not found... skipping.\n",
      "Hotel not found... skipping.\n",
      "Hotel not found... skipping.\n",
      "Hotel not found... skipping.\n"
     ]
    }
   ],
   "source": [
    "# Iterate through the DataFrame.\n",
    "for index, row in hotel_df.iterrows():\n",
    "    # Get the latitude and longitude.\n",
    "    lat = row[\"Lat\"]\n",
    "    lng = row[\"Lng\"]\n",
    "\n",
    "    # Add the latitude and longitude to location key for the params dictionary.\n",
    "    params[\"location\"] = f\"{lat},{lng}\"\n",
    "\n",
    "    # Use the search term: \"lodging\" and our latitude and longitude.\n",
    "    base_url = \"https://maps.googleapis.com/maps/api/place/nearbysearch/json\"\n",
    "    # Make request and get the JSON data from the search.\n",
    "    hotels = requests.get(base_url, params=params).json()\n",
    "    # Grab the first hotel from the results and store the name.\n",
    "    try:\n",
    "        hotel_df.loc[index, \"Hotel Name\"] = hotels[\"results\"][0][\"name\"]\n",
    "    except (IndexError):\n",
    "        print(\"Hotel not found... skipping.\")"
   ]
  },
  {
   "cell_type": "code",
   "execution_count": 20,
   "metadata": {},
   "outputs": [
    {
     "output_type": "execute_result",
     "data": {
      "text/plain": [
       "               City Country  Max Temp      Lat       Lng  \\\n",
       "0            Bonthe      SL     81.73   7.5264  -12.5050   \n",
       "7           Rikitea      PF     76.19 -23.1203 -134.9692   \n",
       "9    Saint-Philippe      RE     80.60 -21.3585   55.7679   \n",
       "11            Dondo      MZ     78.80 -19.6094   34.7431   \n",
       "29         Nuevitas      CU     82.40  21.5453  -77.2644   \n",
       "..              ...     ...       ...      ...       ...   \n",
       "565         Wahiawa      US     75.00  21.5028 -158.0236   \n",
       "569         Bartica      GY     84.20   6.4000  -58.6167   \n",
       "570         La Cruz      MX     82.00  23.9167 -106.9000   \n",
       "572   Bayonet Point      US     80.01  28.3267  -82.6834   \n",
       "573          Majene      ID     77.95  -3.5403  118.9707   \n",
       "\n",
       "                                      Hotel Name  \n",
       "0                         Bonthe Holiday Village  \n",
       "7                                 Pension Maro'i  \n",
       "9                   Chambres d'hôte \"La Trinité\"  \n",
       "11                                     Arco Iris  \n",
       "29                                 Hotel Caonaba  \n",
       "..                                           ...  \n",
       "565                                Aloha Wahiawa  \n",
       "569                              Relax Inn Hotel  \n",
       "570           LIBERADOR DE CELULAS MADRE ADULTAS  \n",
       "572  Homewood Suites by Hilton Tampa-Port Richey  \n",
       "573                           Kost Putri RABBANI  \n",
       "\n",
       "[176 rows x 6 columns]"
      ],
      "text/html": "<div>\n<style scoped>\n    .dataframe tbody tr th:only-of-type {\n        vertical-align: middle;\n    }\n\n    .dataframe tbody tr th {\n        vertical-align: top;\n    }\n\n    .dataframe thead th {\n        text-align: right;\n    }\n</style>\n<table border=\"1\" class=\"dataframe\">\n  <thead>\n    <tr style=\"text-align: right;\">\n      <th></th>\n      <th>City</th>\n      <th>Country</th>\n      <th>Max Temp</th>\n      <th>Lat</th>\n      <th>Lng</th>\n      <th>Hotel Name</th>\n    </tr>\n  </thead>\n  <tbody>\n    <tr>\n      <th>0</th>\n      <td>Bonthe</td>\n      <td>SL</td>\n      <td>81.73</td>\n      <td>7.5264</td>\n      <td>-12.5050</td>\n      <td>Bonthe Holiday Village</td>\n    </tr>\n    <tr>\n      <th>7</th>\n      <td>Rikitea</td>\n      <td>PF</td>\n      <td>76.19</td>\n      <td>-23.1203</td>\n      <td>-134.9692</td>\n      <td>Pension Maro'i</td>\n    </tr>\n    <tr>\n      <th>9</th>\n      <td>Saint-Philippe</td>\n      <td>RE</td>\n      <td>80.60</td>\n      <td>-21.3585</td>\n      <td>55.7679</td>\n      <td>Chambres d'hôte \"La Trinité\"</td>\n    </tr>\n    <tr>\n      <th>11</th>\n      <td>Dondo</td>\n      <td>MZ</td>\n      <td>78.80</td>\n      <td>-19.6094</td>\n      <td>34.7431</td>\n      <td>Arco Iris</td>\n    </tr>\n    <tr>\n      <th>29</th>\n      <td>Nuevitas</td>\n      <td>CU</td>\n      <td>82.40</td>\n      <td>21.5453</td>\n      <td>-77.2644</td>\n      <td>Hotel Caonaba</td>\n    </tr>\n    <tr>\n      <th>...</th>\n      <td>...</td>\n      <td>...</td>\n      <td>...</td>\n      <td>...</td>\n      <td>...</td>\n      <td>...</td>\n    </tr>\n    <tr>\n      <th>565</th>\n      <td>Wahiawa</td>\n      <td>US</td>\n      <td>75.00</td>\n      <td>21.5028</td>\n      <td>-158.0236</td>\n      <td>Aloha Wahiawa</td>\n    </tr>\n    <tr>\n      <th>569</th>\n      <td>Bartica</td>\n      <td>GY</td>\n      <td>84.20</td>\n      <td>6.4000</td>\n      <td>-58.6167</td>\n      <td>Relax Inn Hotel</td>\n    </tr>\n    <tr>\n      <th>570</th>\n      <td>La Cruz</td>\n      <td>MX</td>\n      <td>82.00</td>\n      <td>23.9167</td>\n      <td>-106.9000</td>\n      <td>LIBERADOR DE CELULAS MADRE ADULTAS</td>\n    </tr>\n    <tr>\n      <th>572</th>\n      <td>Bayonet Point</td>\n      <td>US</td>\n      <td>80.01</td>\n      <td>28.3267</td>\n      <td>-82.6834</td>\n      <td>Homewood Suites by Hilton Tampa-Port Richey</td>\n    </tr>\n    <tr>\n      <th>573</th>\n      <td>Majene</td>\n      <td>ID</td>\n      <td>77.95</td>\n      <td>-3.5403</td>\n      <td>118.9707</td>\n      <td>Kost Putri RABBANI</td>\n    </tr>\n  </tbody>\n</table>\n<p>176 rows × 6 columns</p>\n</div>"
     },
     "metadata": {},
     "execution_count": 20
    }
   ],
   "source": [
    "hotel_df"
   ]
  },
  {
   "cell_type": "code",
   "execution_count": 21,
   "metadata": {},
   "outputs": [
    {
     "output_type": "display_data",
     "data": {
      "text/plain": "Figure(layout=FigureLayout(height='420px'))",
      "application/vnd.jupyter.widget-view+json": {
       "version_major": 2,
       "version_minor": 0,
       "model_id": "02efec5b1d2342b7a79e99710bbeae5c"
      }
     },
     "metadata": {}
    }
   ],
   "source": [
    "# Add a heatmap of temperature for the vacation spots.\n",
    "locations = hotel_df[[\"Lat\", \"Lng\"]]\n",
    "max_temp = hotel_df[\"Max Temp\"]\n",
    "fig = gmaps.figure(center=(30.0, 31.0), zoom_level=1.5)\n",
    "heat_layer = gmaps.heatmap_layer(locations, weights=max_temp, dissipating=False,\n",
    "             max_intensity=300, point_radius=4)\n",
    "\n",
    "fig.add_layer(heat_layer)\n",
    "# Call the figure to plot the data.\n",
    "fig"
   ]
  },
  {
   "cell_type": "code",
   "execution_count": 22,
   "metadata": {},
   "outputs": [
    {
     "output_type": "display_data",
     "data": {
      "text/plain": "Figure(layout=FigureLayout(height='420px'))",
      "application/vnd.jupyter.widget-view+json": {
       "version_major": 2,
       "version_minor": 0,
       "model_id": "a71bfb6ead834d8688f2b2950a1ba52b"
      }
     },
     "metadata": {}
    }
   ],
   "source": [
    "# Add a heatmap of temperature for the vacation spots and marker for each city.\n",
    "locations = hotel_df[[\"Lat\", \"Lng\"]]\n",
    "max_temp = hotel_df[\"Max Temp\"]\n",
    "fig = gmaps.figure(center=(30.0, 31.0), zoom_level=1.5)\n",
    "heat_layer = gmaps.heatmap_layer(locations, weights=max_temp,\n",
    "             dissipating=False, max_intensity=300, point_radius=4)\n",
    "marker_layer = gmaps.marker_layer(locations)\n",
    "fig.add_layer(heat_layer)\n",
    "fig.add_layer(marker_layer)\n",
    "# Call the figure to plot the data.\n",
    "fig"
   ]
  },
  {
   "cell_type": "code",
   "execution_count": 24,
   "metadata": {},
   "outputs": [],
   "source": [
    "info_box_template = \"\"\"\n",
    "<dl>\n",
    "<dt>Hotel Name</dt><dd>{Hotel Name}</dd>\n",
    "<dt>City</dt><dd>{City}</dd>\n",
    "<dt>Country</dt><dd>{Country}</dd>\n",
    "<dt>Max Temp</dt><dd>{Max Temp} °F</dd>\n",
    "</dl>\n",
    "\"\"\""
   ]
  },
  {
   "cell_type": "code",
   "execution_count": 27,
   "metadata": {},
   "outputs": [],
   "source": [
    "# Store the DataFrame Row.\n",
    "hotel_info = [info_box_template.format(**row) for index, row in hotel_df.iterrows()]"
   ]
  },
  {
   "cell_type": "code",
   "execution_count": 28,
   "metadata": {},
   "outputs": [
    {
     "output_type": "display_data",
     "data": {
      "text/plain": "Figure(layout=FigureLayout(height='420px'))",
      "application/vnd.jupyter.widget-view+json": {
       "version_major": 2,
       "version_minor": 0,
       "model_id": "e256059b69694a1f9e733c21e1d1451f"
      }
     },
     "metadata": {}
    }
   ],
   "source": [
    "# Add a heatmap of temperature for the vacation spots and a pop-up marker for each city.\n",
    "locations = hotel_df[[\"Lat\", \"Lng\"]]\n",
    "max_temp = hotel_df[\"Max Temp\"]\n",
    "fig = gmaps.figure(center=(30.0, 31.0), zoom_level=1.5)\n",
    "heat_layer = gmaps.heatmap_layer(locations, weights=max_temp,dissipating=False,\n",
    "             max_intensity=300, point_radius=4)\n",
    "marker_layer = gmaps.marker_layer(locations, info_box_content=hotel_info)\n",
    "fig.add_layer(heat_layer)\n",
    "fig.add_layer(marker_layer)\n",
    "\n",
    "# Call the figure to plot the data.\n",
    "fig"
   ]
  },
  {
   "cell_type": "code",
   "execution_count": null,
   "metadata": {},
   "outputs": [],
   "source": []
  }
 ],
 "metadata": {
  "kernelspec": {
   "name": "pythondata",
   "display_name": "Python 3.7.9 64-bit ('PythonData': conda)"
  },
  "language_info": {
   "codemirror_mode": {
    "name": "ipython",
    "version": 3
   },
   "file_extension": ".py",
   "mimetype": "text/x-python",
   "name": "python",
   "nbconvert_exporter": "python",
   "pygments_lexer": "ipython3",
   "version": "3.7.9-final"
  }
 },
 "nbformat": 4,
 "nbformat_minor": 5
}